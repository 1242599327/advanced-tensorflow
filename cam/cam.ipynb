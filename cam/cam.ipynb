{
 "cells": [
  {
   "cell_type": "markdown",
   "metadata": {},
   "source": [
    "# PRETRAINED NET WITH TF-SLIM"
   ]
  },
  {
   "cell_type": "code",
   "execution_count": 1,
   "metadata": {
    "collapsed": false
   },
   "outputs": [
    {
     "name": "stdout",
     "output_type": "stream",
     "text": [
      "PACKAGES LOADED\n"
     ]
    }
   ],
   "source": [
    "import urllib, os\n",
    "import tarfile\n",
    "import numpy as np\n",
    "from scipy.misc import imread, imresize\n",
    "import tensorflow as tf\n",
    "import tensorflow.contrib.slim as slim\n",
    "from tensorflow.contrib.slim.nets import resnet_v1\n",
    "print (\"PACKAGES LOADED\")"
   ]
  },
  {
   "cell_type": "markdown",
   "metadata": {},
   "source": [
    "## DOWNLOAD PRETRAINED NET"
   ]
  },
  {
   "cell_type": "code",
   "execution_count": 2,
   "metadata": {
    "collapsed": false
   },
   "outputs": [
    {
     "name": "stdout",
     "output_type": "stream",
     "text": [
      "data/resnet_v1_50_2016_08_28.tar.gz ALREADY EXISTS\n"
     ]
    }
   ],
   "source": [
    "# MAKE PATH IF NECESSARY \n",
    "dirpath = \"data/\"\n",
    "if not os.path.exists(dirpath):\n",
    "    os.makedirs(dirpath)\n",
    "# DOWNLOAD \n",
    "urlpath = \"http://download.tensorflow.org/models/resnet_v1_50_2016_08_28.tar.gz\"\n",
    "zname   = \"data/resnet_v1_50_2016_08_28.tar.gz\"\n",
    "if not os.path.exists(zname):\n",
    "    print (\"DOWNLOADING %s...\" % (zname))\n",
    "    urllib.urlretrieve(urlpath, zname)\n",
    "    print (\"DONE\")\n",
    "else:\n",
    "    print (\"%s ALREADY EXISTS\" % (zname))"
   ]
  },
  {
   "cell_type": "markdown",
   "metadata": {},
   "source": [
    "## UNZIP CKPT"
   ]
  },
  {
   "cell_type": "code",
   "execution_count": 3,
   "metadata": {
    "collapsed": false
   },
   "outputs": [
    {
     "name": "stdout",
     "output_type": "stream",
     "text": [
      "data/resnet_v1_50_2016_08_28 ALREADY EXIST\n"
     ]
    }
   ],
   "source": [
    "fname = \"data/resnet_v1_50_2016_08_28\"\n",
    "if not os.path.exists(fname):\n",
    "    print (\"EXTRACTING %s...\" % (fname))\n",
    "    tar = tarfile.open(zname, \"r:gz\")\n",
    "    tar.extractall(path=fname)\n",
    "    tar.close()\n",
    "    print (\"DONE.\")\n",
    "else:\n",
    "    print (\"%s ALREADY EXIST\" % (fname))"
   ]
  },
  {
   "cell_type": "markdown",
   "metadata": {},
   "source": [
    "## OPEN SESSION"
   ]
  },
  {
   "cell_type": "code",
   "execution_count": 4,
   "metadata": {
    "collapsed": true
   },
   "outputs": [],
   "source": [
    "sess = tf.Session()"
   ]
  },
  {
   "cell_type": "markdown",
   "metadata": {},
   "source": [
    "## MODEL"
   ]
  },
  {
   "cell_type": "code",
   "execution_count": 5,
   "metadata": {
    "collapsed": true
   },
   "outputs": [],
   "source": [
    "x = tf.placeholder(shape=[None, 224, 224, 3], dtype=tf.float32)\n",
    "# inputs has shape [batch, 224, 224, 3]\n",
    "with slim.arg_scope(resnet_v1.resnet_arg_scope()):\n",
    "    mean = tf.constant([123.68, 116.779, 103.939],\n",
    "        dtype=tf.float32, shape=[1, 1, 1, 3], name='img_mean')\n",
    "    im_centered = x - mean\n",
    "    net, end_points = resnet_v1.resnet_v1_50(inputs=im_centered, num_classes=1000)\n",
    "b1 = end_points['resnet_v1_50/block1']"
   ]
  },
  {
   "cell_type": "markdown",
   "metadata": {},
   "source": [
    "## RESTORE"
   ]
  },
  {
   "cell_type": "code",
   "execution_count": 6,
   "metadata": {
    "collapsed": false,
    "scrolled": false
   },
   "outputs": [],
   "source": [
    "variables_to_restore = slim.get_variables_to_restore(include=[\"resnet_v1\"])\n",
    "restorer = tf.train.Saver(variables_to_restore)\n",
    "sess.run(tf.global_variables_initializer())\n",
    "sess.run(tf.local_variables_initializer())\n",
    "restorer.restore(sess, fname+\"/resnet_v1_50.ckpt\") "
   ]
  },
  {
   "cell_type": "markdown",
   "metadata": {},
   "source": [
    "## RUN"
   ]
  },
  {
   "cell_type": "code",
   "execution_count": 7,
   "metadata": {
    "collapsed": false,
    "scrolled": false
   },
   "outputs": [],
   "source": [
    "currimg  = imread(\"data/cat.jpeg\")\n",
    "rszimg   = imresize(currimg, [224, 224])\n",
    "rszimg   = rszimg.reshape([1, 224, 224, 3])\n",
    "out      = sess.run(b1, feed_dict={x: rszimg})"
   ]
  },
  {
   "cell_type": "code",
   "execution_count": 8,
   "metadata": {
    "collapsed": false
   },
   "outputs": [
    {
     "name": "stdout",
     "output_type": "stream",
     "text": [
      "(1, 28, 28, 256)\n"
     ]
    }
   ],
   "source": [
    "print out.shape"
   ]
  }
 ],
 "metadata": {
  "kernelspec": {
   "display_name": "Python 2",
   "language": "python",
   "name": "python2"
  },
  "language_info": {
   "codemirror_mode": {
    "name": "ipython",
    "version": 2
   },
   "file_extension": ".py",
   "mimetype": "text/x-python",
   "name": "python",
   "nbconvert_exporter": "python",
   "pygments_lexer": "ipython2",
   "version": "2.7.6"
  }
 },
 "nbformat": 4,
 "nbformat_minor": 1
}
