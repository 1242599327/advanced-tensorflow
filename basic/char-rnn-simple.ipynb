{
 "cells": [
  {
   "cell_type": "markdown",
   "metadata": {},
   "source": [
    "## SIMPLE CHAR-RNN "
   ]
  },
  {
   "cell_type": "code",
   "execution_count": 1,
   "metadata": {
    "collapsed": false
   },
   "outputs": [
    {
     "name": "stdout",
     "output_type": "stream",
     "text": [
      "TENSORFLOW VERSION IS 1.0.1\n"
     ]
    }
   ],
   "source": [
    "from __future__ import print_function\n",
    "import tensorflow as tf\n",
    "import numpy as np\n",
    "from tensorflow.contrib import rnn\n",
    "tf.set_random_seed(0)  \n",
    "print (\"TENSORFLOW VERSION IS %s\" % (tf.__version__))"
   ]
  },
  {
   "cell_type": "markdown",
   "metadata": {},
   "source": [
    "## DEFINE TRAINING SEQUENCE"
   ]
  },
  {
   "cell_type": "code",
   "execution_count": 2,
   "metadata": {
    "collapsed": false
   },
   "outputs": [
    {
     "name": "stdout",
     "output_type": "stream",
     "text": [
      "FOLLOWING IS OUR TRAINING SEQUENCE:\n",
      "If you want to build a ship, don't drum up people to collect wood and don't assign them tasks and work, but rather teach them to long for the endless immensity of the sea. A designer knows he has achieved perfection not when there is nothing left to add, but when there is nothing left to take away. When you give yourself, you receive more than you give. A rock pile ceases to be a rock pile the moment a single man contemplates it, bearing within him the image of a cathedral. For true love is inexhaustible; the more you give, the more you have. And if you go to draw at the true fountainhead, the more water you draw, the more abundant is its flow. Night, the beloved. Night, when words fade and things come alive. When the destructive analysis of day is done, and all that is truly important becomes whole and sound again. When man reassembles his fragmentary self and grows with the calm of a tree. Transport of the mails, transport of the human voice, transport of flickering pictures-in this century as in others our highest accomplishments still have the single aim of bringing men together. It is only with the heart that one can see rightly; what is essential is invisible to the eye. He who has gone, so we but cherish his memory, abides with us, more potent, nay, more present than the living man. Grown-ups never understand anything for themselves, and it is tiresome for children to be always and forever explaining things to them. True happiness comes from the joy of deeds well done, the zest of creating things new. Each man must look to himself to teach him the meaning of life. It is not something discovered: it is something molded. Love does not consist in gazing at each other, but in looking outward together in the same direction. No single event can awaken within us a stranger totally unknown to us. To live is to be slowly born. It would be a bit too easy if we could go about borrowing ready-made souls. Only the unknown frightens men. But once a man has faced the unknown, that terror becomes the known. What makes the desert beautiful is that somewhere it hides a well. Perfection is achieved, not when there is nothing more to add, but when there is nothing left to take away. I know but one freedom, and that is the freedom of the mind. You become responsible, forever, for what you have tamed. Only he can understand what a farm is, what a country is, who shall have sacrificed part of himself to his farm or country, fought to save it, struggled to make it beautiful. Only then will the love of farm or country fill his heart. And now here is my secret, a very simple secret: it is only with the heart that one can see rightly, what is essential is invisible to the eye. A chief is a man who assumes responsibility. He says 'I was beaten', he does not say 'My men were beaten.' A civilization is a heritage of beliefs, customs, and knowledge slowly accumulated in the course of centuries, elements difficult at times to justify by logic, but justifying themselves as paths when they lead somewhere, since they open up for man his inner distance. We say nothing essential about the cathedral when we speak of its stones. We say nothing essential about Man when we seek to define him by the qualities of men. How could there be any question of acquiring or possessing, when the one thing needful for a man is to become - to be at last, and to die in the fullness of his being.\n"
     ]
    }
   ],
   "source": [
    "sentence = \"If you want to build a ship, don't drum up people to collect wood and don't assign them tasks and work, but rather teach them to long for the endless immensity of the sea. A designer knows he has achieved perfection not when there is nothing left to add, but when there is nothing left to take away. When you give yourself, you receive more than you give. A rock pile ceases to be a rock pile the moment a single man contemplates it, bearing within him the image of a cathedral. For true love is inexhaustible; the more you give, the more you have. And if you go to draw at the true fountainhead, the more water you draw, the more abundant is its flow. Night, the beloved. Night, when words fade and things come alive. When the destructive analysis of day is done, and all that is truly important becomes whole and sound again. When man reassembles his fragmentary self and grows with the calm of a tree. Transport of the mails, transport of the human voice, transport of flickering pictures-in this century as in others our highest accomplishments still have the single aim of bringing men together. It is only with the heart that one can see rightly; what is essential is invisible to the eye. He who has gone, so we but cherish his memory, abides with us, more potent, nay, more present than the living man. Grown-ups never understand anything for themselves, and it is tiresome for children to be always and forever explaining things to them. True happiness comes from the joy of deeds well done, the zest of creating things new. Each man must look to himself to teach him the meaning of life. It is not something discovered: it is something molded. Love does not consist in gazing at each other, but in looking outward together in the same direction. No single event can awaken within us a stranger totally unknown to us. To live is to be slowly born. It would be a bit too easy if we could go about borrowing ready-made souls. Only the unknown frightens men. But once a man has faced the unknown, that terror becomes the known. What makes the desert beautiful is that somewhere it hides a well. Perfection is achieved, not when there is nothing more to add, but when there is nothing left to take away. I know but one freedom, and that is the freedom of the mind. You become responsible, forever, for what you have tamed. Only he can understand what a farm is, what a country is, who shall have sacrificed part of himself to his farm or country, fought to save it, struggled to make it beautiful. Only then will the love of farm or country fill his heart. And now here is my secret, a very simple secret: it is only with the heart that one can see rightly, what is essential is invisible to the eye. A chief is a man who assumes responsibility. He says 'I was beaten', he does not say 'My men were beaten.' A civilization is a heritage of beliefs, customs, and knowledge slowly accumulated in the course of centuries, elements difficult at times to justify by logic, but justifying themselves as paths when they lead somewhere, since they open up for man his inner distance. We say nothing essential about the cathedral when we speak of its stones. We say nothing essential about Man when we seek to define him by the qualities of men. How could there be any question of acquiring or possessing, when the one thing needful for a man is to become - to be at last, and to die in the fullness of his being.\"\n",
    "print (\"FOLLOWING IS OUR TRAINING SEQUENCE:\")\n",
    "print (sentence)"
   ]
  },
  {
   "cell_type": "markdown",
   "metadata": {},
   "source": [
    "## DEFINE VOCABULARY AND DICTIONARY"
   ]
  },
  {
   "cell_type": "code",
   "execution_count": 3,
   "metadata": {
    "collapsed": false
   },
   "outputs": [
    {
     "name": "stdout",
     "output_type": "stream",
     "text": [
      "VOCABULARY: \n",
      "[' ', \"'\", '-', ',', '.', ';', ':', 'A', 'B', 'E', 'G', 'F', 'I', 'H', 'M', 'L', 'O', 'N', 'P', 'T', 'W', 'Y', 'a', 'c', 'b', 'e', 'd', 'g', 'f', 'i', 'h', 'k', 'j', 'm', 'l', 'o', 'n', 'q', 'p', 's', 'r', 'u', 't', 'w', 'v', 'y', 'x', 'z']\n",
      "DICTIONARY: \n",
      "{' ': 0, \"'\": 1, '-': 2, ',': 3, '.': 4, ';': 5, ':': 6, 'A': 7, 'B': 8, 'E': 9, 'G': 10, 'F': 11, 'I': 12, 'H': 13, 'M': 14, 'L': 15, 'O': 16, 'N': 17, 'P': 18, 'T': 19, 'W': 20, 'Y': 21, 'a': 22, 'c': 23, 'b': 24, 'e': 25, 'd': 26, 'g': 27, 'f': 28, 'i': 29, 'h': 30, 'k': 31, 'j': 32, 'm': 33, 'l': 34, 'o': 35, 'n': 36, 'q': 37, 'p': 38, 's': 39, 'r': 40, 'u': 41, 't': 42, 'w': 43, 'v': 44, 'y': 45, 'x': 46, 'z': 47}\n"
     ]
    }
   ],
   "source": [
    "char_set = list(set(sentence))\n",
    "char_dic = {w: i for i, w in enumerate(char_set)}\n",
    "print (\"VOCABULARY: \")\n",
    "print (char_set)\n",
    "print (\"DICTIONARY: \")\n",
    "print (char_dic)"
   ]
  },
  {
   "cell_type": "markdown",
   "metadata": {},
   "source": [
    "## CONFIGURE NETWORK"
   ]
  },
  {
   "cell_type": "code",
   "execution_count": 4,
   "metadata": {
    "collapsed": true
   },
   "outputs": [],
   "source": [
    "data_dim    = len(char_set)\n",
    "num_classes = len(char_set)\n",
    "hidden_size     = 64\n",
    "sequence_length = 10  # Any arbitrary number"
   ]
  },
  {
   "cell_type": "markdown",
   "metadata": {},
   "source": [
    "## SET TRAINING BATCHES"
   ]
  },
  {
   "cell_type": "code",
   "execution_count": 5,
   "metadata": {
    "collapsed": false
   },
   "outputs": [
    {
     "name": "stdout",
     "output_type": "stream",
     "text": [
      "[   0/3409] [If you wan]=>[f you want]\n",
      "            [12, 28, 0, 45, 35, 41, 0, 43, 22, 36]=>[28, 0, 45, 35, 41, 0, 43, 22, 36, 42]\n",
      "[   1/3409] [f you want]=>[ you want ]\n",
      "            [28, 0, 45, 35, 41, 0, 43, 22, 36, 42]=>[0, 45, 35, 41, 0, 43, 22, 36, 42, 0]\n",
      "[   2/3409] [ you want ]=>[you want t]\n",
      "            [0, 45, 35, 41, 0, 43, 22, 36, 42, 0]=>[45, 35, 41, 0, 43, 22, 36, 42, 0, 42]\n",
      "[   3/3409] [you want t]=>[ou want to]\n",
      "            [45, 35, 41, 0, 43, 22, 36, 42, 0, 42]=>[35, 41, 0, 43, 22, 36, 42, 0, 42, 35]\n",
      "[   4/3409] [ou want to]=>[u want to ]\n",
      "            [35, 41, 0, 43, 22, 36, 42, 0, 42, 35]=>[41, 0, 43, 22, 36, 42, 0, 42, 35, 0]\n",
      "[   5/3409] [u want to ]=>[ want to b]\n",
      "            [41, 0, 43, 22, 36, 42, 0, 42, 35, 0]=>[0, 43, 22, 36, 42, 0, 42, 35, 0, 24]\n",
      "[   6/3409] [ want to b]=>[want to bu]\n",
      "            [0, 43, 22, 36, 42, 0, 42, 35, 0, 24]=>[43, 22, 36, 42, 0, 42, 35, 0, 24, 41]\n",
      "[   7/3409] [want to bu]=>[ant to bui]\n",
      "            [43, 22, 36, 42, 0, 42, 35, 0, 24, 41]=>[22, 36, 42, 0, 42, 35, 0, 24, 41, 29]\n",
      "[   8/3409] [ant to bui]=>[nt to buil]\n",
      "            [22, 36, 42, 0, 42, 35, 0, 24, 41, 29]=>[36, 42, 0, 42, 35, 0, 24, 41, 29, 34]\n",
      "[   9/3409] [nt to buil]=>[t to build]\n",
      "            [36, 42, 0, 42, 35, 0, 24, 41, 29, 34]=>[42, 0, 42, 35, 0, 24, 41, 29, 34, 26]\n"
     ]
    }
   ],
   "source": [
    "dataX = []\n",
    "dataY = []\n",
    "for i in range(0, len(sentence) - sequence_length):\n",
    "    x_str = sentence[i:i + sequence_length]\n",
    "    y_str = sentence[i + 1: i + sequence_length + 1]\n",
    "    x = [char_dic[c] for c in x_str]  # x str to index\n",
    "    y = [char_dic[c] for c in y_str]  # y str to index\n",
    "    dataX.append(x)\n",
    "    dataY.append(y)\n",
    "    if i < 10:\n",
    "        print (\"[%4d/%4d] [%s]=>[%s]\" % (i, len(sentence), x_str, y_str))\n",
    "        print (\"%s%s=>%s\" % (' '*12, x, y))"
   ]
  },
  {
   "cell_type": "code",
   "execution_count": 6,
   "metadata": {
    "collapsed": false
   },
   "outputs": [
    {
     "name": "stdout",
     "output_type": "stream",
     "text": [
      "     'NDATA' IS 3399\n",
      "'BATCH_SIZE' IS 512\n"
     ]
    }
   ],
   "source": [
    "ndata      = len(dataX)\n",
    "batch_size = 512\n",
    "print (\"     'NDATA' IS %d\" % (ndata))\n",
    "print (\"'BATCH_SIZE' IS %d\" % (batch_size))"
   ]
  },
  {
   "cell_type": "markdown",
   "metadata": {},
   "source": [
    "## DEFINE PLACEHOLDERS"
   ]
  },
  {
   "cell_type": "code",
   "execution_count": 7,
   "metadata": {
    "collapsed": false
   },
   "outputs": [
    {
     "name": "stdout",
     "output_type": "stream",
     "text": [
      "'sequence_length' IS [10]\n",
      "    'num_classes' IS [48]\n",
      "'X' LOOKS LIKE \n",
      "   [Tensor(\"Placeholder:0\", shape=(?, 10), dtype=int32)]\n",
      "'X_OH' LOOKS LIKE \n",
      "   [Tensor(\"one_hot:0\", shape=(?, 10, 48), dtype=float32)]\n"
     ]
    }
   ],
   "source": [
    "X = tf.placeholder(tf.int32, [None, sequence_length])\n",
    "Y = tf.placeholder(tf.int32, [None, sequence_length])\n",
    "X_OH = tf.one_hot(X, num_classes)\n",
    "print (\"'sequence_length' IS [%d]\" % (sequence_length))\n",
    "print (\"    'num_classes' IS [%d]\" % (num_classes))\n",
    "print(\"'X' LOOKS LIKE \\n   [%s]\" % (X))  \n",
    "print(\"'X_OH' LOOKS LIKE \\n   [%s]\" % (X_OH))"
   ]
  },
  {
   "cell_type": "markdown",
   "metadata": {},
   "source": [
    "## DEFINE MODEL"
   ]
  },
  {
   "cell_type": "code",
   "execution_count": 8,
   "metadata": {
    "collapsed": false
   },
   "outputs": [
    {
     "name": "stdout",
     "output_type": "stream",
     "text": [
      "OUTPUTS LOOKS LIKE [Tensor(\"CHAR-RNN/Reshape:0\", shape=(512, 10, 48), dtype=float32)]\n",
      "MODEL DEFINED.\n"
     ]
    }
   ],
   "source": [
    "num_hidden = 256\n",
    "with tf.variable_scope('CHAR-RNN', reuse=False):\n",
    "    cell = rnn.BasicLSTMCell(hidden_size, state_is_tuple=True)\n",
    "    cell = rnn.MultiRNNCell([cell] * 2, state_is_tuple=True)\n",
    "    # DYNAMIC RNN WITH FULLY CONNECTED LAYER\n",
    "    _hiddens  = tf.contrib.layers.fully_connected(X_OH, num_hidden, activation_fn=tf.nn.relu)\n",
    "    _outputs, _states = tf.nn.dynamic_rnn(cell, _hiddens, dtype=tf.float32)\n",
    "    _outputs  = tf.contrib.layers.fully_connected(_outputs, num_classes, activation_fn=None)\n",
    "    # RESHAPE FOR SEQUNCE LOSS\n",
    "    outputs = tf.reshape(_outputs, [batch_size, sequence_length, num_classes])\n",
    "print (\"OUTPUTS LOOKS LIKE [%s]\" % (outputs))\n",
    "print (\"MODEL DEFINED.\")"
   ]
  },
  {
   "cell_type": "markdown",
   "metadata": {},
   "source": [
    "## DEFINE TF FUNCTIONS"
   ]
  },
  {
   "cell_type": "code",
   "execution_count": 9,
   "metadata": {
    "collapsed": false
   },
   "outputs": [
    {
     "name": "stdout",
     "output_type": "stream",
     "text": [
      "FUNCTIONS DEFINED.\n"
     ]
    }
   ],
   "source": [
    "weights = tf.ones([batch_size, sequence_length]) # EQUAL WEIGHTS\n",
    "seq_loss = tf.contrib.seq2seq.sequence_loss(\n",
    "    logits=outputs, targets=Y, weights=weights)\n",
    "loss  = tf.reduce_mean(seq_loss)\n",
    "optm  = tf.train.AdamOptimizer(learning_rate=0.001).minimize(loss)\n",
    "print (\"FUNCTIONS DEFINED.\")"
   ]
  },
  {
   "cell_type": "markdown",
   "metadata": {},
   "source": [
    "## OPTIMIZE"
   ]
  },
  {
   "cell_type": "code",
   "execution_count": 10,
   "metadata": {
    "collapsed": false,
    "scrolled": true
   },
   "outputs": [
    {
     "name": "stdout",
     "output_type": "stream",
     "text": [
      "[    0] loss_val: 3.87109 \n",
      "[ 1000] loss_val: 1.69164 \n",
      "[ 2000] loss_val: 1.08516 \n",
      "[ 3000] loss_val: 0.77485 \n",
      "[ 4000] loss_val: 0.65322 \n",
      "[ 5000] loss_val: 0.59381 \n",
      "[ 6000] loss_val: 0.57462 \n",
      "[ 7000] loss_val: 0.54960 \n",
      "[ 8000] loss_val: 0.54696 \n",
      "[ 9000] loss_val: 0.53584 \n",
      "[10000] loss_val: 0.52734 \n",
      "[11000] loss_val: 0.53316 \n",
      "[12000] loss_val: 0.53226 \n",
      "[13000] loss_val: 0.53119 \n",
      "[14000] loss_val: 0.52793 \n",
      "[15000] loss_val: 0.53143 \n",
      "[16000] loss_val: 0.52363 \n",
      "[17000] loss_val: 0.52421 \n",
      "[18000] loss_val: 0.51945 \n",
      "[19000] loss_val: 0.52086 \n"
     ]
    }
   ],
   "source": [
    "config = tf.ConfigProto()\n",
    "config.gpu_options.allow_growth=True\n",
    "sess = tf.Session(config=config)\n",
    "sess.run(tf.global_variables_initializer())\n",
    "MAXITER = 20000\n",
    "for i in range(MAXITER):\n",
    "    randidx = np.random.randint(low=0, high=ndata, size=batch_size)\n",
    "    batchX = [dataX[iii] for iii in randidx]\n",
    "    batchY = [dataY[iii] for iii in randidx]\n",
    "    feeds = {X: batchX, Y: batchY}\n",
    "    _, loss_val, results = sess.run(\n",
    "        [optm, loss, outputs], feed_dict=feeds)\n",
    "    if (i%1000) == 0:\n",
    "        print (\"[%5d] loss_val: %.5f \" % (i, loss_val))"
   ]
  },
  {
   "cell_type": "markdown",
   "metadata": {},
   "source": [
    "## PRINT CHARS"
   ]
  },
  {
   "cell_type": "code",
   "execution_count": 11,
   "metadata": {
    "collapsed": false
   },
   "outputs": [
    {
     "name": "stdout",
     "output_type": "stream",
     "text": [
      "['h', ' ', ' ', 'e', 'a', 's', 'y', ' ', 'i', 'f']\n",
      "[' ', ' ', 'o', 'r', ' ', 'b', 'e', 'c', 'o', 'm']\n",
      "['e', 'n', ' ', 's', ' ', 'd', 't', 'i', 'l', 'l']\n",
      "[' ', ' ', 'W', 'h', 'e', 't', ' ', 'm', 'a', 'k']\n",
      "['t', 'f', ' ', 't', 'e', 'l', 'i', 'e', 'f', 's']\n",
      "['t', 't', ' ', 'T', 'o', ' ', 'l', 'i', 'v', 'e']\n",
      "['n', 'e', 'i', 'n', '.', ' ', 'W', 'h', 'e', 'n']\n",
      "['t', ' ', 'd', ' ', 't', 'o', 'r', 'k', ',', ' ']\n",
      "[' ', 'n', 'o', 'f', ' ', 'c', 'e', 'n', 't', 'u']\n",
      "['e', 'n', 'h', 't', 'l', 'y', ';', ' ', 'w', 'h']\n"
     ]
    }
   ],
   "source": [
    "randidx = np.random.randint(low=0, high=ndata, size=batch_size)\n",
    "batchX = [dataX[iii] for iii in randidx]\n",
    "batchY = [dataY[iii] for iii in randidx]\n",
    "feeds = {X: batchX, Y: batchY}\n",
    "results = sess.run(outputs, feed_dict=feeds)\n",
    "for j, result in enumerate(results):\n",
    "    index = np.argmax(result, axis=1)\n",
    "    chars = [char_set[t] for t in index]\n",
    "    if j < 10:\n",
    "        print (chars)"
   ]
  },
  {
   "cell_type": "markdown",
   "metadata": {},
   "source": [
    "### SAMPLING FUNCTION "
   ]
  },
  {
   "cell_type": "code",
   "execution_count": 12,
   "metadata": {
    "collapsed": false
   },
   "outputs": [
    {
     "name": "stdout",
     "output_type": "stream",
     "text": [
      "Tensor(\"Placeholder_2:0\", shape=(?, 1), dtype=int32)\n"
     ]
    }
   ],
   "source": [
    "LEN = 1;\n",
    "# XL = tf.placeholder(tf.int32, [None, LEN])\n",
    "XL     = tf.placeholder(tf.int32, [None, 1])\n",
    "XL_OH  = tf.one_hot(XL, num_classes)\n",
    "with tf.variable_scope('CHAR-RNN', reuse=True):\n",
    "    cell_L = rnn.BasicLSTMCell(hidden_size, state_is_tuple=True)\n",
    "    cell_L = rnn.MultiRNNCell([cell_L] * 2, state_is_tuple=True)\n",
    "    istate = cell_L.zero_state(batch_size=1, dtype=tf.float32)\n",
    "    # DYNAMIC RNN WITH FULLY CONNECTED LAYER\n",
    "    _hiddens  = tf.contrib.layers.fully_connected(XL_OH, num_hidden, activation_fn=tf.nn.tanh)\n",
    "    _outputs_L, states_L = tf.nn.dynamic_rnn(cell_L, _hiddens\n",
    "                                , initial_state=istate, dtype=tf.float32)\n",
    "    _outputs_L  = tf.contrib.layers.fully_connected(\n",
    "        _outputs_L, num_classes, activation_fn=None)\n",
    "    # RESHAPE FOR SEQUNCE LOSS\n",
    "    outputs_L = tf.reshape(_outputs_L, [LEN, 1, num_classes])\n",
    "print (XL)\n",
    "\n",
    "def weighted_pick(weights):\n",
    "    t = np.cumsum(weights)\n",
    "    s = np.sum(weights)\n",
    "    return(int(np.searchsorted(t, np.random.rand(1)*s)))\n",
    "def softmax(x):\n",
    "    alpha = 2\n",
    "    e_x = np.exp(alpha*(x - np.max(x)))\n",
    "    return e_x / np.sum(e_x) # only difference"
   ]
  },
  {
   "cell_type": "markdown",
   "metadata": {},
   "source": [
    "## SAMPLE"
   ]
  },
  {
   "cell_type": "markdown",
   "metadata": {},
   "source": [
    "### BURNIN"
   ]
  },
  {
   "cell_type": "code",
   "execution_count": 27,
   "metadata": {
    "collapsed": false
   },
   "outputs": [],
   "source": [
    "prime = \"Perfection\"\n",
    "istateval = sess.run(cell_L.zero_state(1, tf.float32))\n",
    "for c in prime[:-1]:\n",
    "    index = char_dic[c]\n",
    "    inval = [[index]]\n",
    "    outval, stateval = sess.run([outputs_L, states_L]\n",
    "                        , feed_dict={XL:inval, istate:istateval})\n",
    "    istateval = stateval"
   ]
  },
  {
   "cell_type": "markdown",
   "metadata": {},
   "source": [
    "### SAMPLE"
   ]
  },
  {
   "cell_type": "code",
   "execution_count": 28,
   "metadata": {
    "collapsed": false,
    "scrolled": false
   },
   "outputs": [
    {
     "name": "stdout",
     "output_type": "stream",
     "text": [
      "SAMPLED SETENCE: \n",
      " Perfectionis acquiring or pound again. When man reassembles his frather in the desert beautiful is invisible to take away. I know but cherish his mem born. It when there it hid, doredkn-in this centuries, elemen. How could there be anything for the endledss of men. How could there be anything for the endlates it, bearing men togle aim of bringing men together in the desert beautiful. Only he does not say 'Ma ring things to the eye. A chief is its flow. Night, the more than the live you go to the eye. A chief is its flow. Night, the more than the live yourself, you receive more than you give. A rock of his beinly to be always and forever explaining things to them. True happiness comes froms, and knowledge slowly born. It whaus him the meaning of life. It is not something molded. Love does not consist in gazing at each him the meaning of aim or possessing, when you give. A rock of his beinly to be always accumulating things to the eye. A chief is invisible the fullness of his heart. And nowl. Perf\n",
      "\n",
      "ORIGINAL SENTENCE: \n",
      " If you want to build a ship, don't drum up people to collect wood and don't assign them tasks and work, but rather teach them to long for the endless immensity of the sea. A designer knows he has achieved perfection not when there is nothing left to add, but when there is nothing left to take away. When you give yourself, you receive more than you give. A rock pile ceases to be a rock pile the moment a single man contemplates it, bearing within him the image of a cathedral. For true love is inexhaustible; the more you give, the more you have. And if you go to draw at the true fountainhead, the more water you draw, the more abundant is its flow. Night, the beloved. Night, when words fade and things come alive. When the destructive analysis of day is done, and all that is truly important becomes whole and sound again. When man reassembles his fragmentary self and grows with the calm of a tree. Transport of the mails, transport of the human voice, transport of flickering pictures-in this century as in others our highest accomplishments still have the single aim of bringing men together. It is only with the heart that one can see rightly; what is essential is invisible to the eye. He who has gone, so we but cherish his memory, abides with us, more potent, nay, more present than the living man. Grown-ups never understand anything for themselves, and it is tiresome for children to be always and forever explaining things to them. True happiness comes from the joy of deeds well done, the zest of creating things new. Each man must look to himself to teach him the meaning of life. It is not something discovered: it is something molded. Love does not consist in gazing at each other, but in looking outward together in the same direction. No single event can awaken within us a stranger totally unknown to us. To live is to be slowly born. It would be a bit too easy if we could go about borrowing ready-made souls. Only the unknown frightens men. But once a man has faced the unknown, that terror becomes the known. What makes the desert beautiful is that somewhere it hides a well. Perfection is achieved, not when there is nothing more to add, but when there is nothing left to take away. I know but one freedom, and that is the freedom of the mind. You become responsible, forever, for what you have tamed. Only he can understand what a farm is, what a country is, who shall have sacrificed part of himself to his farm or country, fought to save it, struggled to make it beautiful. Only then will the love of farm or country fill his heart. And now here is my secret, a very simple secret: it is only with the heart that one can see rightly, what is essential is invisible to the eye. A chief is a man who assumes responsibility. He says 'I was beaten', he does not say 'My men were beaten.' A civilization is a heritage of beliefs, customs, and knowledge slowly accumulated in the course of centuries, elements difficult at times to justify by logic, but justifying themselves as paths when they lead somewhere, since they open up for man his inner distance. We say nothing essential about the cathedral when we speak of its stones. We say nothing essential about Man when we seek to define him by the qualities of men. How could there be any question of acquiring or possessing, when the one thing needful for a man is to become - to be at last, and to die in the fullness of his being.\n"
     ]
    }
   ],
   "source": [
    "inval  = [[char_dic[prime[-1]]]]\n",
    "outval, stateval = sess.run([outputs_L, states_L]\n",
    "                    , feed_dict={XL:inval, istate:istateval})\n",
    "istateval = stateval\n",
    "index = np.argmax(outval)\n",
    "char  = char_set[index]\n",
    "chars = ''\n",
    "for i in range(1000):\n",
    "    inval = [[index]]\n",
    "    outval, stateval = sess.run([outputs_L, states_L]\n",
    "                        , feed_dict={XL:inval, istate:istateval})\n",
    "    istateval = stateval\n",
    "    # index = np.argmax(outval)\n",
    "    index = weighted_pick(softmax(outval))\n",
    "    char  = char_set[index]\n",
    "    chars += char\n",
    "print (\"SAMPLED SETENCE: \\n %s\" % (prime+chars))\n",
    "print (\"\\nORIGINAL SENTENCE: \\n %s\" % (sentence))"
   ]
  }
 ],
 "metadata": {
  "kernelspec": {
   "display_name": "Python 2",
   "language": "python",
   "name": "python2"
  },
  "language_info": {
   "codemirror_mode": {
    "name": "ipython",
    "version": 2
   },
   "file_extension": ".py",
   "mimetype": "text/x-python",
   "name": "python",
   "nbconvert_exporter": "python",
   "pygments_lexer": "ipython2",
   "version": "2.7.6"
  }
 },
 "nbformat": 4,
 "nbformat_minor": 1
}
