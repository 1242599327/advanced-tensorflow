{
 "cells": [
  {
   "cell_type": "markdown",
   "metadata": {},
   "source": [
    "## MODERN CNN WITH TF-SLIM"
   ]
  },
  {
   "cell_type": "code",
   "execution_count": 1,
   "metadata": {
    "collapsed": false
   },
   "outputs": [
    {
     "name": "stdout",
     "output_type": "stream",
     "text": [
      "CURRENT TF VERSION IS [1.0.1]\n",
      "PACKAGES LOADED\n"
     ]
    }
   ],
   "source": [
    "import os\n",
    "import numpy as np\n",
    "from scipy import ndimage\n",
    "import matplotlib.pyplot as plt\n",
    "import tensorflow as tf\n",
    "import tensorflow.contrib.slim as slim\n",
    "from tensorflow.examples.tutorials.mnist import input_data\n",
    "%matplotlib inline  \n",
    "print (\"CURRENT TF VERSION IS [%s]\" % (tf.__version__))\n",
    "print (\"PACKAGES LOADED\")"
   ]
  },
  {
   "cell_type": "markdown",
   "metadata": {},
   "source": [
    "## LOAD MNIST"
   ]
  },
  {
   "cell_type": "code",
   "execution_count": 2,
   "metadata": {
    "collapsed": false
   },
   "outputs": [
    {
     "name": "stdout",
     "output_type": "stream",
     "text": [
      "Extracting data/train-images-idx3-ubyte.gz\n",
      "Extracting data/train-labels-idx1-ubyte.gz\n",
      "Extracting data/t10k-images-idx3-ubyte.gz\n",
      "Extracting data/t10k-labels-idx1-ubyte.gz\n",
      "MNIST ready\n"
     ]
    }
   ],
   "source": [
    "mnist = input_data.read_data_sets('data/', one_hot=True)\n",
    "trainimg   = mnist.train.images\n",
    "trainlabel = mnist.train.labels\n",
    "valimg     = mnist.validation.images\n",
    "vallabel   = mnist.validation.labels\n",
    "testimg    = mnist.test.images\n",
    "testlabel  = mnist.test.labels\n",
    "print (\"MNIST ready\")"
   ]
  },
  {
   "cell_type": "markdown",
   "metadata": {},
   "source": [
    "## DEFINE MODEL"
   ]
  },
  {
   "cell_type": "code",
   "execution_count": 3,
   "metadata": {
    "collapsed": false
   },
   "outputs": [
    {
     "name": "stdout",
     "output_type": "stream",
     "text": [
      "NETWORK READY\n"
     ]
    }
   ],
   "source": [
    "n_input = 784\n",
    "n_classes = 10\n",
    "x = tf.placeholder(\"float\", [None, n_input])\n",
    "y = tf.placeholder(\"float\", [None, n_classes])\n",
    "is_training = tf.placeholder(tf.bool)\n",
    "\n",
    "def prelu(_x):\n",
    "    alphas = tf.get_variable('alpha', _x.get_shape()[-1]\n",
    "                             , initializer=tf.constant_initializer(0.0)\n",
    "                             , dtype=tf.float32)\n",
    "    pos = tf.nn.relu(_x)\n",
    "    neg = alphas * (_x - abs(_x)) * 0.5\n",
    "    return pos + neg\n",
    "\n",
    "def CNN(inputs, is_training=True):\n",
    "    x   = tf.reshape(inputs, [-1, 28, 28, 1])\n",
    "    batch_norm_params = {'is_training': is_training, 'decay': 0.9\n",
    "                         , 'updates_collections': None}\n",
    "    net = slim.conv2d(x, 32, [5, 5], padding='SAME'\n",
    "                     , activation_fn       = prelu\n",
    "                     , weights_initializer = tf.truncated_normal_initializer(stddev=0.01)\n",
    "                     , normalizer_fn       = slim.batch_norm\n",
    "                     , normalizer_params   = batch_norm_params\n",
    "                     , scope='conv1')\n",
    "    net = slim.max_pool2d(net, [2, 2], scope='pool1')\n",
    "    net = slim.conv2d(x, 64, [5, 5], padding='SAME'\n",
    "                     , activation_fn       = prelu\n",
    "                     , weights_initializer = tf.truncated_normal_initializer(stddev=0.01)\n",
    "                     , normalizer_fn       = slim.batch_norm\n",
    "                     , normalizer_params   = batch_norm_params\n",
    "                     , scope='conv2')\n",
    "    net = slim.max_pool2d(net, [2, 2], scope='pool2')\n",
    "    net = slim.flatten(net, scope='flatten3')\n",
    "    net = slim.fully_connected(net, 1024\n",
    "                    , activation_fn       = prelu\n",
    "                    , weights_initializer = tf.truncated_normal_initializer(stddev=0.01)\n",
    "                    , normalizer_fn       = slim.batch_norm\n",
    "                    , normalizer_params   = batch_norm_params\n",
    "                    , scope='fc4')\n",
    "    net = slim.dropout(net, keep_prob=0.7, is_training=is_training, scope='dropout4')  \n",
    "    out = slim.fully_connected(net, 10, activation_fn=None, normalizer_fn=None, scope='fco')\n",
    "    return out\n",
    "print (\"NETWORK READY\")"
   ]
  },
  {
   "cell_type": "markdown",
   "metadata": {},
   "source": [
    "## DEFINE GRAPH"
   ]
  },
  {
   "cell_type": "code",
   "execution_count": 4,
   "metadata": {
    "collapsed": false
   },
   "outputs": [
    {
     "name": "stdout",
     "output_type": "stream",
     "text": [
      "FUNCTIONS READY\n"
     ]
    }
   ],
   "source": [
    "# PREDICTION\n",
    "pred = CNN(x, is_training)\n",
    "\n",
    "# LOSS AND OPTIMIZER\n",
    "cost = tf.reduce_mean(tf.nn.softmax_cross_entropy_with_logits(\n",
    "        labels=y, logits=pred))\n",
    "optm = tf.train.AdamOptimizer(learning_rate=0.001).minimize(cost) \n",
    "corr = tf.equal(tf.argmax(pred, 1), tf.argmax(y, 1))    \n",
    "accr = tf.reduce_mean(tf.cast(corr, \"float\"))\n",
    "\n",
    "# INITIALIZER\n",
    "init = tf.global_variables_initializer()\n",
    "print (\"FUNCTIONS READY\")"
   ]
  },
  {
   "cell_type": "markdown",
   "metadata": {},
   "source": [
    "## SAVER"
   ]
  },
  {
   "cell_type": "code",
   "execution_count": 5,
   "metadata": {
    "collapsed": false
   },
   "outputs": [
    {
     "name": "stdout",
     "output_type": "stream",
     "text": [
      "SAVER READY\n"
     ]
    }
   ],
   "source": [
    "savedir = \"nets/cnn_mnist_modern/\"\n",
    "saver = tf.train.Saver(max_to_keep=100)\n",
    "save_step = 4\n",
    "if not os.path.exists(savedir):\n",
    "    os.makedirs(savedir)\n",
    "print (\"SAVER READY\")"
   ]
  },
  {
   "cell_type": "markdown",
   "metadata": {},
   "source": [
    "## AUGMENTATION"
   ]
  },
  {
   "cell_type": "code",
   "execution_count": 6,
   "metadata": {
    "collapsed": false
   },
   "outputs": [],
   "source": [
    "def augment_img(xs):\n",
    "    out  = np.copy(xs)\n",
    "    xs_r = np.reshape(xs, [-1, 28, 28])\n",
    "    for i in range(xs_r.shape[0]):\n",
    "        xs_img = xs_r[i, :, :]\n",
    "        bg_value = 0\n",
    "        # ROTATE\n",
    "        angle = np.random.randint(-20, 20, 1).astype(float)\n",
    "        xs_img = ndimage.rotate(xs_img, angle, reshape=False, cval=bg_value)\n",
    "        # SHIFT\n",
    "        shift = np.random.randint(-3, 3, 2)\n",
    "        xs_img = ndimage.shift(xs_img, shift, cval=bg_value)\n",
    "        # RESHAPE\n",
    "        xs_v = np.reshape(xs_img, [1, -1])\n",
    "        out[i, :] = xs_v\n",
    "    return out"
   ]
  },
  {
   "cell_type": "markdown",
   "metadata": {},
   "source": [
    "## TEST AUGMENTATION"
   ]
  },
  {
   "cell_type": "code",
   "execution_count": 7,
   "metadata": {
    "collapsed": false,
    "scrolled": false
   },
   "outputs": [
    {
     "data": {
      "image/png": "[encoded data removed]",
      "text/plain": [
       "<matplotlib.figure.Figure at 0x7f5b18714a50>"
      ]
     },
     "metadata": {},
     "output_type": "display_data"
    },
    {
     "data": {
      "image/png": "[encoded data removed]",
      "text/plain": [
       "<matplotlib.figure.Figure at 0x7f5ac3995290>"
      ]
     },
     "metadata": {},
     "output_type": "display_data"
    },
    {
     "data": {
      "image/png": "[encoded data removed]",
      "text/plain": [
       "<matplotlib.figure.Figure at 0x7f5ac07f34d0>"
      ]
     },
     "metadata": {},
     "output_type": "display_data"
    },
    {
     "data": {
      "image/png": "[encoded data removed]",
      "text/plain": [
       "<matplotlib.figure.Figure at 0x7f5ac06c7050>"
      ]
     },
     "metadata": {},
     "output_type": "display_data"
    }
   ],
   "source": [
    "naug = 2\n",
    "batch_xs = trainimg[:naug, :]\n",
    "xs2 = augment_img(batch_xs)\n",
    "for i in range(naug):\n",
    "    x1 = batch_xs[i, :].reshape([28, 28])\n",
    "    x2 = xs2[i, :].reshape([28, 28])\n",
    "    plt.matshow(x1, vmin=0, vmax=1, cmap=plt.cm.gray)\n",
    "    plt.title(\"ORIGINAL\")\n",
    "    plt.show()\n",
    "    plt.matshow(x2, vmin=0, vmax=1, cmap=plt.cm.gray)\n",
    "    plt.title(\"TRANSFORMED\")\n",
    "    plt.show()"
   ]
  },
  {
   "cell_type": "markdown",
   "metadata": {},
   "source": [
    "## RUN"
   ]
  },
  {
   "cell_type": "code",
   "execution_count": 8,
   "metadata": {
    "collapsed": false,
    "scrolled": false
   },
   "outputs": [
    {
     "name": "stdout",
     "output_type": "stream",
     "text": [
      "Epoch: 004/100 cost: 0.059872630\n",
      " TRAIN ACCURACY: 0.99000\n",
      " VALIDATION ACCURACY: 0.98960\n",
      " [nets/cnn_mnist_modern/net-3.ckpt] SAVED.\n",
      "\u001b[31m BEST EPOCH UPDATED!! [3] \u001b[0m\n",
      "Epoch: 008/100 cost: 0.044724675\n",
      " TRAIN ACCURACY: 0.99200\n",
      " VALIDATION ACCURACY: 0.99400\n",
      " [nets/cnn_mnist_modern/net-7.ckpt] SAVED.\n",
      "\u001b[31m BEST EPOCH UPDATED!! [7] \u001b[0m\n",
      "Epoch: 012/100 cost: 0.041245670\n",
      " TRAIN ACCURACY: 0.99800\n",
      " VALIDATION ACCURACY: 0.99400\n",
      " [nets/cnn_mnist_modern/net-11.ckpt] SAVED.\n",
      "\u001b[31m BEST EPOCH UPDATED!! [11] \u001b[0m\n",
      "Epoch: 016/100 cost: 0.034991559\n",
      " TRAIN ACCURACY: 0.99800\n",
      " VALIDATION ACCURACY: 0.99280\n",
      " [nets/cnn_mnist_modern/net-15.ckpt] SAVED.\n",
      "Epoch: 020/100 cost: 0.031847603\n",
      " TRAIN ACCURACY: 0.99400\n",
      " VALIDATION ACCURACY: 0.99280\n",
      " [nets/cnn_mnist_modern/net-19.ckpt] SAVED.\n",
      "Epoch: 024/100 cost: 0.029417414\n",
      " TRAIN ACCURACY: 0.99600\n",
      " VALIDATION ACCURACY: 0.99460\n",
      " [nets/cnn_mnist_modern/net-23.ckpt] SAVED.\n",
      "\u001b[31m BEST EPOCH UPDATED!! [23] \u001b[0m\n",
      "Epoch: 028/100 cost: 0.028547484\n",
      " TRAIN ACCURACY: 0.99800\n",
      " VALIDATION ACCURACY: 0.99380\n",
      " [nets/cnn_mnist_modern/net-27.ckpt] SAVED.\n",
      "Epoch: 032/100 cost: 0.026988353\n",
      " TRAIN ACCURACY: 0.99800\n",
      " VALIDATION ACCURACY: 0.99220\n",
      " [nets/cnn_mnist_modern/net-31.ckpt] SAVED.\n",
      "Epoch: 036/100 cost: 0.026395348\n",
      " TRAIN ACCURACY: 0.99600\n",
      " VALIDATION ACCURACY: 0.99380\n",
      " [nets/cnn_mnist_modern/net-35.ckpt] SAVED.\n",
      "Epoch: 040/100 cost: 0.025064361\n",
      " TRAIN ACCURACY: 0.99800\n",
      " VALIDATION ACCURACY: 0.99400\n",
      " [nets/cnn_mnist_modern/net-39.ckpt] SAVED.\n",
      "Epoch: 044/100 cost: 0.022731143\n",
      " TRAIN ACCURACY: 0.99600\n",
      " VALIDATION ACCURACY: 0.99540\n",
      " [nets/cnn_mnist_modern/net-43.ckpt] SAVED.\n",
      "\u001b[31m BEST EPOCH UPDATED!! [43] \u001b[0m\n",
      "Epoch: 048/100 cost: 0.022395553\n",
      " TRAIN ACCURACY: 0.99600\n",
      " VALIDATION ACCURACY: 0.99460\n",
      " [nets/cnn_mnist_modern/net-47.ckpt] SAVED.\n",
      "Epoch: 052/100 cost: 0.022124550\n",
      " TRAIN ACCURACY: 1.00000\n",
      " VALIDATION ACCURACY: 0.99400\n",
      " [nets/cnn_mnist_modern/net-51.ckpt] SAVED.\n",
      "Epoch: 056/100 cost: 0.020803461\n",
      " TRAIN ACCURACY: 1.00000\n",
      " VALIDATION ACCURACY: 0.99440\n",
      " [nets/cnn_mnist_modern/net-55.ckpt] SAVED.\n",
      "Epoch: 060/100 cost: 0.019646613\n",
      " TRAIN ACCURACY: 0.99600\n",
      " VALIDATION ACCURACY: 0.99440\n",
      " [nets/cnn_mnist_modern/net-59.ckpt] SAVED.\n",
      "Epoch: 064/100 cost: 0.020340981\n",
      " TRAIN ACCURACY: 1.00000\n",
      " VALIDATION ACCURACY: 0.99620\n",
      " [nets/cnn_mnist_modern/net-63.ckpt] SAVED.\n",
      "\u001b[31m BEST EPOCH UPDATED!! [63] \u001b[0m\n",
      "Epoch: 068/100 cost: 0.020137751\n",
      " TRAIN ACCURACY: 1.00000\n",
      " VALIDATION ACCURACY: 0.99540\n",
      " [nets/cnn_mnist_modern/net-67.ckpt] SAVED.\n",
      "Epoch: 072/100 cost: 0.017527692\n",
      " TRAIN ACCURACY: 0.99400\n",
      " VALIDATION ACCURACY: 0.99380\n",
      " [nets/cnn_mnist_modern/net-71.ckpt] SAVED.\n",
      "Epoch: 076/100 cost: 0.018667596\n",
      " TRAIN ACCURACY: 0.99800\n",
      " VALIDATION ACCURACY: 0.99620\n",
      " [nets/cnn_mnist_modern/net-75.ckpt] SAVED.\n",
      "Epoch: 080/100 cost: 0.018416268\n",
      " TRAIN ACCURACY: 0.99800\n",
      " VALIDATION ACCURACY: 0.99680\n",
      " [nets/cnn_mnist_modern/net-79.ckpt] SAVED.\n",
      "\u001b[31m BEST EPOCH UPDATED!! [79] \u001b[0m\n",
      "Epoch: 084/100 cost: 0.019452030\n",
      " TRAIN ACCURACY: 0.99800\n",
      " VALIDATION ACCURACY: 0.99700\n",
      " [nets/cnn_mnist_modern/net-83.ckpt] SAVED.\n",
      "\u001b[31m BEST EPOCH UPDATED!! [83] \u001b[0m\n",
      "Epoch: 088/100 cost: 0.016828615\n",
      " TRAIN ACCURACY: 1.00000\n",
      " VALIDATION ACCURACY: 0.99720\n",
      " [nets/cnn_mnist_modern/net-87.ckpt] SAVED.\n",
      "\u001b[31m BEST EPOCH UPDATED!! [87] \u001b[0m\n",
      "Epoch: 092/100 cost: 0.017411733\n",
      " TRAIN ACCURACY: 1.00000\n",
      " VALIDATION ACCURACY: 0.99620\n",
      " [nets/cnn_mnist_modern/net-91.ckpt] SAVED.\n",
      "Epoch: 096/100 cost: 0.016596081\n",
      " TRAIN ACCURACY: 1.00000\n",
      " VALIDATION ACCURACY: 0.99600\n",
      " [nets/cnn_mnist_modern/net-95.ckpt] SAVED.\n",
      "Epoch: 100/100 cost: 0.013356802\n",
      " TRAIN ACCURACY: 0.99600\n",
      " VALIDATION ACCURACY: 0.99620\n",
      " [nets/cnn_mnist_modern/net-99.ckpt] SAVED.\n",
      "OPTIMIZATION FINISHED\n"
     ]
    }
   ],
   "source": [
    "# PARAMETERS\n",
    "training_epochs = 100\n",
    "batch_size      = 50\n",
    "display_step    = 4\n",
    "val_acc         = 0\n",
    "val_acc_max     = 0\n",
    "# LAUNCH THE GRAPH\n",
    "sess = tf.Session()\n",
    "sess.run(init)\n",
    "# OPTIMIZE\n",
    "for epoch in range(training_epochs):\n",
    "    avg_cost = 0.\n",
    "    total_batch = int(mnist.train.num_examples/batch_size)\n",
    "    # ITERATION\n",
    "    for i in range(total_batch):\n",
    "        batch_xs, batch_ys = mnist.train.next_batch(batch_size)\n",
    "        # AUGMENT DATA\n",
    "        batch_xs = augment_img(batch_xs)\n",
    "        feeds = {x: batch_xs, y: batch_ys, is_training: True}\n",
    "        sess.run(optm, feed_dict=feeds)\n",
    "        avg_cost += sess.run(cost, feed_dict=feeds)\n",
    "    avg_cost = avg_cost / total_batch\n",
    "    # DISPLAY\n",
    "    if (epoch+1) % display_step == 0:\n",
    "        print (\"Epoch: %03d/%03d cost: %.9f\" % (epoch+1, training_epochs, avg_cost))\n",
    "        randidx = np.random.permutation(trainimg.shape[0])[:500]\n",
    "        feeds = {x: trainimg[randidx], y: trainlabel[randidx], is_training: False}\n",
    "        train_acc = sess.run(accr, feed_dict=feeds)\n",
    "        print (\" TRAIN ACCURACY: %.5f\" % (train_acc))\n",
    "        feeds = {x: valimg, y: vallabel, is_training: False}\n",
    "        val_acc = sess.run(accr, feed_dict=feeds)\n",
    "        print (\" VALIDATION ACCURACY: %.5f\" % (val_acc))\n",
    "    # SAVE\n",
    "    if (epoch+1) % save_step == 0:\n",
    "        savename = savedir + \"net-\" + str(epoch) + \".ckpt\"\n",
    "        saver.save(sess=sess, save_path=savename)\n",
    "        print (\" [%s] SAVED.\" % (savename))\n",
    "    # MAXIMUM VALIDATION ACCURACY\n",
    "    if val_acc > val_acc_max:\n",
    "        val_acc_max = val_acc\n",
    "        best_epoch = epoch\n",
    "        print (\"\\x1b[31m BEST EPOCH UPDATED!! [%d] \\x1b[0m\" % (best_epoch))\n",
    "print (\"OPTIMIZATION FINISHED\")"
   ]
  },
  {
   "cell_type": "markdown",
   "metadata": {},
   "source": [
    "## COMPUTE TEST ACCURACY"
   ]
  },
  {
   "cell_type": "code",
   "execution_count": 9,
   "metadata": {
    "collapsed": false
   },
   "outputs": [
    {
     "name": "stdout",
     "output_type": "stream",
     "text": [
      "LOADING [nets/cnn_mnist_modern/net-87.ckpt]\n",
      "TEST ACCURACY: 0.99470\n"
     ]
    }
   ],
   "source": [
    "restorename = savedir + \"net-\" + str(best_epoch) + \".ckpt\"\n",
    "print (\"LOADING [%s]\" % (restorename))\n",
    "saver.restore(sess, restorename)\n",
    "feeds = {x: testimg, y: testlabel, is_training: False}\n",
    "test_acc = sess.run(accr, feed_dict=feeds)\n",
    "print (\"TEST ACCURACY: %.5f\" % (test_acc))"
   ]
  }
 ],
 "metadata": {
  "kernelspec": {
   "display_name": "Python 2",
   "language": "python",
   "name": "python2"
  },
  "language_info": {
   "codemirror_mode": {
    "name": "ipython",
    "version": 2
   },
   "file_extension": ".py",
   "mimetype": "text/x-python",
   "name": "python",
   "nbconvert_exporter": "python",
   "pygments_lexer": "ipython2",
   "version": "2.7.6"
  }
 },
 "nbformat": 4,
 "nbformat_minor": 1
}
